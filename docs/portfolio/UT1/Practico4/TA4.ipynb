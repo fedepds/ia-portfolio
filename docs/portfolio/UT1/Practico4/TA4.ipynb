{
  "nbformat": 4,
  "nbformat_minor": 0,
  "metadata": {
    "colab": {
      "provenance": []
    },
    "kernelspec": {
      "name": "python3",
      "display_name": "Python 3"
    },
    "language_info": {
      "name": "python"
    }
  },
  "cells": [
    {
      "cell_type": "code",
      "source": [
        "# Importar librerías que vamos a usar\n",
        "import pandas as pd\n",
        "import numpy as np\n",
        "import matplotlib.pyplot as plt\n",
        "\n",
        "# Para los modelos de machine learning\n",
        "from sklearn.linear_model import LinearRegression, LogisticRegression\n",
        "from sklearn.model_selection import train_test_split\n",
        "from sklearn.metrics import mean_squared_error, mean_absolute_error, r2_score, accuracy_score, classification_report, confusion_matrix, precision_score, recall_score, f1_score\n",
        "from sklearn.datasets import load_breast_cancer\n",
        "\n",
        "print(\"✅ Setup completo!\")"
      ],
      "metadata": {
        "colab": {
          "base_uri": "https://localhost:8080/"
        },
        "id": "_AWBHRFp6GlO",
        "outputId": "15088acc-9a2e-4012-9b36-364180e42c83"
      },
      "execution_count": null,
      "outputs": [
        {
          "output_type": "stream",
          "name": "stdout",
          "text": [
            "✅ Setup completo!\n"
          ]
        }
      ]
    },
    {
      "cell_type": "code",
      "source": [
        "# === CARGAR DATOS DE CASAS EN BOSTON ===\n",
        "# 1. Cargar el dataset desde una URL\n",
        "url = \"https://raw.githubusercontent.com/selva86/datasets/master/BostonHousing.csv\"\n",
        "boston_data = pd.read_csv(url)\n",
        "print(\"🏠 DATASET: Boston Housing\")\n",
        "print(f\"   📊 Forma: {boston_data.shape}\")\n",
        "print(f\"   📋 Columnas: {list(boston_data.columns)}\")\n",
        "\n",
        "# 2. Explorar los datos básicamente\n",
        "print(\"\\n🔍 Primeras 5 filas:\")\n",
        "print(boston_data.head())\n",
        "\n",
        "# 3. Preparar X (variables independientes) e y (variable dependiente)\n",
        "# La columna 'medv' es el precio de la casa que queremos predecir\n",
        "X = boston_data.drop('medv', axis=1)  # Todas las columnas EXCEPTO la que queremos predecir\n",
        "y = boston_data['medv']                # Solo la columna que queremos predecir\n",
        "\n",
        "print(f\"\\n📊 X tiene forma: {X.shape}\")\n",
        "print(f\"📊 y tiene forma: {y.shape}\")\n",
        "print(f\"🎯 Queremos predecir: Precio de casas en miles de USD\")\n",
        "print(f\"📈 Precio mínimo: ${y.min():.1f}k, Precio máximo: ${y.max():.1f}k\")"
      ],
      "metadata": {
        "colab": {
          "base_uri": "https://localhost:8080/"
        },
        "id": "-wtum0NVAA9x",
        "outputId": "339366b0-656f-47da-ee57-5fe37ebd6f03"
      },
      "execution_count": null,
      "outputs": [
        {
          "output_type": "stream",
          "name": "stdout",
          "text": [
            "🏠 DATASET: Boston Housing\n",
            "   📊 Forma: (506, 14)\n",
            "   📋 Columnas: ['crim', 'zn', 'indus', 'chas', 'nox', 'rm', 'age', 'dis', 'rad', 'tax', 'ptratio', 'b', 'lstat', 'medv']\n",
            "\n",
            "🔍 Primeras 5 filas:\n",
            "      crim    zn  indus  chas    nox     rm   age     dis  rad  tax  ptratio  \\\n",
            "0  0.00632  18.0   2.31     0  0.538  6.575  65.2  4.0900    1  296     15.3   \n",
            "1  0.02731   0.0   7.07     0  0.469  6.421  78.9  4.9671    2  242     17.8   \n",
            "2  0.02729   0.0   7.07     0  0.469  7.185  61.1  4.9671    2  242     17.8   \n",
            "3  0.03237   0.0   2.18     0  0.458  6.998  45.8  6.0622    3  222     18.7   \n",
            "4  0.06905   0.0   2.18     0  0.458  7.147  54.2  6.0622    3  222     18.7   \n",
            "\n",
            "        b  lstat  medv  \n",
            "0  396.90   4.98  24.0  \n",
            "1  396.90   9.14  21.6  \n",
            "2  392.83   4.03  34.7  \n",
            "3  394.63   2.94  33.4  \n",
            "4  396.90   5.33  36.2  \n",
            "\n",
            "📊 X tiene forma: (506, 13)\n",
            "📊 y tiene forma: (506,)\n",
            "🎯 Queremos predecir: Precio de casas en miles de USD\n",
            "📈 Precio mínimo: $5.0k, Precio máximo: $50.0k\n"
          ]
        }
      ]
    },
    {
      "cell_type": "code",
      "source": [
        "# === ENTRENAR MODELO DE REGRESIÓN LINEAL ===\n",
        "# 1. Dividir datos en entrenamiento y prueba\n",
        "X_train, X_test, y_train, y_test = train_test_split(X, y, test_size=0.2, random_state=42)\n",
        "print(f\"📊 Datos de entrenamiento: {X_train.shape[0]} casas\")\n",
        "print(f\"📊 Datos de prueba: {X_test.shape[0]} casas\")\n",
        "\n",
        "# 2. Crear y entrenar el modelo\n",
        "modelo_regresion = LinearRegression()\n",
        "modelo_regresion.fit(X_train, y_train)\n",
        "print(\"✅ Modelo entrenado!\")\n",
        "\n",
        "# 3. Hacer predicciones\n",
        "predicciones = modelo_regresion.predict(X_test)\n",
        "print(f\"\\n🔮 Predicciones hechas para {len(predicciones)} casas\")\n",
        "\n",
        "# 4. Evaluar qué tan bueno es el modelo con MÚLTIPLES MÉTRICAS\n",
        "mae = mean_absolute_error(y_test, predicciones)\n",
        "mse = mean_squared_error(y_test, predicciones)\n",
        "rmse = np.sqrt(mse)\n",
        "r2 = r2_score(y_test, predicciones)\n",
        "# Calcular MAPE manualmente\n",
        "mape = np.mean(np.abs((y_test - predicciones) / y_test)) * 100\n",
        "print(f\"\\n📈 MÉTRICAS DE EVALUACIÓN:\")\n",
        "print(f\"   📊 MAE (Error Absoluto Medio): ${mae:.2f}k\")\n",
        "print(f\"   📊 MSE (Error Cuadrático Medio): {mse:.2f}\")\n",
        "print(f\"   📊 RMSE (Raíz del Error Cuadrático): ${rmse:.2f}k\")\n",
        "print(f\"   📊 R² (Coeficiente de determinación): {r2:.3f}\")\n",
        "print(f\"   📊 MAPE (Error Porcentual Absoluto): {mape:.1f}%\")\n",
        "\n",
        "print(f\"\\n🔍 INTERPRETACIÓN:\")\n",
        "print(f\"   💰 En promedio nos equivocamos por ${mae:.2f}k (MAE)\")\n",
        "print(f\"   📈 El modelo explica {r2*100:.1f}% de la variabilidad (R²)\")\n",
        "print(f\"   📊 Error porcentual promedio: {mape:.1f}% (MAPE)\")\n",
        "\n",
        "# 5. Comparar algunas predicciones reales vs predichas\n",
        "print(f\"\\n🔍 EJEMPLOS (Real vs Predicho):\")\n",
        "for i in range(5):\n",
        "    real = y_test.iloc[i]\n",
        "    predicho = predicciones[i]\n",
        "    print(f\"   Casa {i+1}: Real ${real:.1f}k vs Predicho ${predicho:.1f}k\")"
      ],
      "metadata": {
        "colab": {
          "base_uri": "https://localhost:8080/"
        },
        "id": "7Jh5ssiCDvc5",
        "outputId": "02dc48c1-7ba1-4ca9-fc10-a49df614b3be"
      },
      "execution_count": null,
      "outputs": [
        {
          "output_type": "stream",
          "name": "stdout",
          "text": [
            "📊 Datos de entrenamiento: 404 casas\n",
            "📊 Datos de prueba: 102 casas\n",
            "✅ Modelo entrenado!\n",
            "\n",
            "🔮 Predicciones hechas para 102 casas\n",
            "\n",
            "📈 MÉTRICAS DE EVALUACIÓN:\n",
            "   📊 MAE (Error Absoluto Medio): $3.19k\n",
            "   📊 MSE (Error Cuadrático Medio): 24.29\n",
            "   📊 RMSE (Raíz del Error Cuadrático): $4.93k\n",
            "   📊 R² (Coeficiente de determinación): 0.669\n",
            "   📊 MAPE (Error Porcentual Absoluto): 16.9%\n",
            "\n",
            "🔍 INTERPRETACIÓN:\n",
            "   💰 En promedio nos equivocamos por $3.19k (MAE)\n",
            "   📈 El modelo explica 66.9% de la variabilidad (R²)\n",
            "   📊 Error porcentual promedio: 16.9% (MAPE)\n",
            "\n",
            "🔍 EJEMPLOS (Real vs Predicho):\n",
            "   Casa 1: Real $23.6k vs Predicho $29.0k\n",
            "   Casa 2: Real $32.4k vs Predicho $36.0k\n",
            "   Casa 3: Real $13.6k vs Predicho $14.8k\n",
            "   Casa 4: Real $22.8k vs Predicho $25.0k\n",
            "   Casa 5: Real $16.1k vs Predicho $18.8k\n"
          ]
        }
      ]
    },
    {
      "cell_type": "markdown",
      "source": [
        "Regresión Logística"
      ],
      "metadata": {
        "id": "w3l9Zkw7FDsd"
      }
    },
    {
      "cell_type": "code",
      "source": [
        "# === CARGAR DATOS DE DIAGNÓSTICO DE CÁNCER ===\n",
        "\n",
        "# 1. Cargar el dataset de cáncer de mama (que viene con sklearn)\n",
        "cancer_data = load_breast_cancer()\n",
        "\n",
        "# 2. Convertir a DataFrame para verlo mejor\n",
        "X_cancer = pd.DataFrame(cancer_data.data, columns=cancer_data.feature_names)\n",
        "y_cancer = cancer_data.target  # 0 = maligno, 1 = benigno\n",
        "\n",
        "print(\"🏥 DATASET: Breast Cancer (Diagnóstico)\")\n",
        "print(f\"   📊 Pacientes: {X_cancer.shape[0]}\")\n",
        "print(f\"   📊 Características: {X_cancer.shape[1]}\")\n",
        "print(f\"   🎯 Objetivo: Predecir si tumor es benigno (1) o maligno (0)\")\n",
        "\n",
        "# 3. Ver balance de clases\n",
        "casos_malignos = (y_cancer == 0).sum()\n",
        "casos_benignos = (y_cancer == 1).sum()\n",
        "\n",
        "print(f\"\\n📊 DISTRIBUCIÓN:\")\n",
        "print(f\"   ❌ Casos malignos: {casos_malignos}\")\n",
        "print(f\"   ✅ Casos benignos: {casos_benignos}\")"
      ],
      "metadata": {
        "colab": {
          "base_uri": "https://localhost:8080/"
        },
        "id": "sFCWE1FFFFYT",
        "outputId": "3e813271-9515-4cd1-a06f-2a72a898d479"
      },
      "execution_count": null,
      "outputs": [
        {
          "output_type": "stream",
          "name": "stdout",
          "text": [
            "🏥 DATASET: Breast Cancer (Diagnóstico)\n",
            "   📊 Pacientes: 569\n",
            "   📊 Características: 30\n",
            "   🎯 Objetivo: Predecir si tumor es benigno (1) o maligno (0)\n",
            "\n",
            "📊 DISTRIBUCIÓN:\n",
            "   ❌ Casos malignos: 212\n",
            "   ✅ Casos benignos: 357\n"
          ]
        }
      ]
    },
    {
      "cell_type": "markdown",
      "source": [
        "Entrenar Regresión Logística"
      ],
      "metadata": {
        "id": "M6m5C-biFlMo"
      }
    },
    {
      "cell_type": "code",
      "source": [
        "# === ENTRENAR MODELO DE CLASIFICACIÓN ===\n",
        "\n",
        "# 1. Dividir datos en entrenamiento y prueba\n",
        "X_train_cancer, X_test_cancer, y_train_cancer, y_test_cancer = train_test_split(\n",
        "    X_cancer, y_cancer, test_size=0.2, random_state=42\n",
        ")\n",
        "\n",
        "print(f\"📊 Datos de entrenamiento: {X_train_cancer.shape[0]} pacientes\")\n",
        "print(f\"📊 Datos de prueba: {X_test_cancer.shape[0]} pacientes\")\n",
        "\n",
        "# 2. Crear y entrenar modelo de regresión logística\n",
        "modelo_clasificacion = LogisticRegression(max_iter=5000, random_state=42)\n",
        "modelo_clasificacion.fit(X_train_cancer, y_train_cancer)\n",
        "\n",
        "print(\"✅ Modelo de clasificación entrenado!\")\n",
        "\n",
        "# 3. Hacer predicciones\n",
        "predicciones_cancer = modelo_clasificacion.predict(X_test_cancer)\n",
        "\n",
        "# 4. Evaluar con MÚLTIPLES MÉTRICAS de clasificación\n",
        "exactitud = accuracy_score(y_test_cancer, predicciones_cancer)\n",
        "precision = precision_score(y_test_cancer, predicciones_cancer)\n",
        "recall = recall_score(y_test_cancer, predicciones_cancer)\n",
        "f1 = f1_score(y_test_cancer, predicciones_cancer)\n",
        "\n",
        "print(f\"\\n📈 MÉTRICAS DE CLASIFICACIÓN:\")\n",
        "print(f\"   🎯 Exactitud (Accuracy): {exactitud:.3f} ({exactitud*100:.1f}%)\")\n",
        "print(f\"   🎯 Precisión (Precision): {precision:.3f} ({precision*100:.1f}%)\")\n",
        "print(f\"   🎯 Recall (Sensibilidad): {recall:.3f} ({recall*100:.1f}%)\")\n",
        "print(f\"   🎯 F1-Score: {f1:.3f}\")\n",
        "\n",
        "# Mostrar matriz de confusión de forma simple\n",
        "matriz_confusion = confusion_matrix(y_test_cancer, predicciones_cancer)\n",
        "print(f\"\\n🔢 MATRIZ DE CONFUSIÓN:\")\n",
        "print(f\"   📊 {matriz_confusion}\")\n",
        "print(f\"   📋 [Verdaderos Negativos, Falsos Positivos]\")\n",
        "print(f\"   📋 [Falsos Negativos, Verdaderos Positivos]\")\n",
        "\n",
        "# Reporte detallado\n",
        "print(f\"\\n📋 REPORTE DETALLADO:\")\n",
        "print(classification_report(y_test_cancer, predicciones_cancer, target_names=['Maligno', 'Benigno']))\n",
        "\n",
        "print(f\"\\n🔍 INTERPRETACIÓN MÉDICA:\")\n",
        "print(f\"   🩺 Precision: De los casos que predecimos como benignos, {precision*100:.1f}% lo son realmente\")\n",
        "print(f\"   🩺 Recall: De todos los casos benignos reales, detectamos {recall*100:.1f}%\")\n",
        "print(f\"   🩺 F1-Score: Balance general entre precision y recall: {f1:.3f}\")\n",
        "\n",
        "# 5. Ver ejemplos específicos\n",
        "print(f\"\\n🔍 EJEMPLOS (Real vs Predicho):\")\n",
        "for i in range(5):\n",
        "    real = \"Benigno\" if y_test_cancer[i] == 1 else \"Maligno\"\n",
        "    predicho = \"Benigno\" if predicciones_cancer[i] == 1 else \"Maligno\"\n",
        "    print(f\"   Paciente {i+1}: Real: {real} vs Predicho: {predicho}\")"
      ],
      "metadata": {
        "colab": {
          "base_uri": "https://localhost:8080/"
        },
        "id": "LTjNoxsZFpN3",
        "outputId": "b1dbf41e-6815-4311-81f4-3d3cf2712d33"
      },
      "execution_count": null,
      "outputs": [
        {
          "output_type": "stream",
          "name": "stdout",
          "text": [
            "📊 Datos de entrenamiento: 455 pacientes\n",
            "📊 Datos de prueba: 114 pacientes\n",
            "✅ Modelo de clasificación entrenado!\n",
            "\n",
            "📈 MÉTRICAS DE CLASIFICACIÓN:\n",
            "   🎯 Exactitud (Accuracy): 0.956 (95.6%)\n",
            "   🎯 Precisión (Precision): 0.946 (94.6%)\n",
            "   🎯 Recall (Sensibilidad): 0.986 (98.6%)\n",
            "   🎯 F1-Score: 0.966\n",
            "\n",
            "🔢 MATRIZ DE CONFUSIÓN:\n",
            "   📊 [[39  4]\n",
            " [ 1 70]]\n",
            "   📋 [Verdaderos Negativos, Falsos Positivos]\n",
            "   📋 [Falsos Negativos, Verdaderos Positivos]\n",
            "\n",
            "📋 REPORTE DETALLADO:\n",
            "              precision    recall  f1-score   support\n",
            "\n",
            "     Maligno       0.97      0.91      0.94        43\n",
            "     Benigno       0.95      0.99      0.97        71\n",
            "\n",
            "    accuracy                           0.96       114\n",
            "   macro avg       0.96      0.95      0.95       114\n",
            "weighted avg       0.96      0.96      0.96       114\n",
            "\n",
            "\n",
            "🔍 INTERPRETACIÓN MÉDICA:\n",
            "   🩺 Precision: De los casos que predecimos como benignos, 94.6% lo son realmente\n",
            "   🩺 Recall: De todos los casos benignos reales, detectamos 98.6%\n",
            "   🩺 F1-Score: Balance general entre precision y recall: 0.966\n",
            "\n",
            "🔍 EJEMPLOS (Real vs Predicho):\n",
            "   Paciente 1: Real: Benigno vs Predicho: Benigno\n",
            "   Paciente 2: Real: Maligno vs Predicho: Maligno\n",
            "   Paciente 3: Real: Maligno vs Predicho: Maligno\n",
            "   Paciente 4: Real: Benigno vs Predicho: Benigno\n",
            "   Paciente 5: Real: Benigno vs Predicho: Benigno\n"
          ]
        }
      ]
    },
    {
      "cell_type": "code",
      "source": [],
      "metadata": {
        "id": "QX3Bh13sMeXG"
      },
      "execution_count": null,
      "outputs": []
    }
  ]
}